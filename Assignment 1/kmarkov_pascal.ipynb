{
  "nbformat": 4,
  "nbformat_minor": 0,
  "metadata": {
    "colab": {
      "name": "kmarkov_pascal(Notebook).ipynb",
      "provenance": [],
      "toc_visible": true
    },
    "kernelspec": {
      "name": "python3",
      "display_name": "Python 3"
    }
  },
  "cells": [
    {
      "cell_type": "markdown",
      "metadata": {
        "id": "1S3M9guQNC4X"
      },
      "source": [
        "#K-Markov Sampling for Pascal dataset"
      ]
    },
    {
      "cell_type": "code",
      "metadata": {
        "id": "-7K_Bc6V8Bm5"
      },
      "source": [
        "# Import all dependencies\n",
        "import pandas as pd\n",
        "import numpy as np\n",
        "from sklearn.svm import SVC\n",
        "from sklearn.model_selection import train_test_split\n",
        "from sklearn import metrics\n",
        "from sklearn.metrics import confusion_matrix\n",
        "from sklearn.model_selection import KFold\n",
        "from sklearn.model_selection import cross_val_score\n",
        "from sklearn.model_selection import GridSearchCV\n",
        "import matplotlib.pyplot as plt\n",
        "import seaborn as sns\n",
        "from sklearn.preprocessing import scale"
      ],
      "execution_count": null,
      "outputs": []
    },
    {
      "cell_type": "code",
      "metadata": {
        "colab": {
          "base_uri": "https://localhost:8080/"
        },
        "id": "rqiu79Cp_inU",
        "outputId": "2c8781f7-6ad4-4026-a58d-92552568ee4d"
      },
      "source": [
        "# mount drive for easy import and export of data\n",
        "from google.colab import drive\n",
        "drive.mount('/content/drive')"
      ],
      "execution_count": null,
      "outputs": [
        {
          "output_type": "stream",
          "text": [
            "Mounted at /content/drive\n"
          ],
          "name": "stdout"
        }
      ]
    },
    {
      "cell_type": "code",
      "metadata": {
        "id": "EVeniiLD8HR_"
      },
      "source": [
        "# initialise dataframe with letter dataset\n",
        "pascal = pd.read_csv(\"Image-pixels.csv\")"
      ],
      "execution_count": null,
      "outputs": []
    },
    {
      "cell_type": "code",
      "metadata": {
        "colab": {
          "base_uri": "https://localhost:8080/"
        },
        "id": "tDydTch6Angk",
        "outputId": "4cad67b1-3bdf-4af5-830f-1a0e03fc4fbe"
      },
      "source": [
        "pascal.shape"
      ],
      "execution_count": null,
      "outputs": [
        {
          "output_type": "execute_result",
          "data": {
            "text/plain": [
              "(4382, 22501)"
            ]
          },
          "metadata": {
            "tags": []
          },
          "execution_count": 19
        }
      ]
    },
    {
      "cell_type": "code",
      "metadata": {
        "colab": {
          "base_uri": "https://localhost:8080/"
        },
        "id": "FI5LwQNOBJHu",
        "outputId": "e612a86e-1691-468c-d3a6-4c7d6fa82023"
      },
      "source": [
        "col=[i for i in range(22500)]\n",
        "col.append('label')\n",
        "pascal.columns=col\n",
        "pascal.columns"
      ],
      "execution_count": null,
      "outputs": [
        {
          "output_type": "execute_result",
          "data": {
            "text/plain": [
              "Index([      0,       1,       2,       3,       4,       5,       6,       7,\n",
              "             8,       9,\n",
              "       ...\n",
              "         22491,   22492,   22493,   22494,   22495,   22496,   22497,   22498,\n",
              "         22499, 'label'],\n",
              "      dtype='object', length=22501)"
            ]
          },
          "metadata": {
            "tags": []
          },
          "execution_count": 20
        }
      ]
    },
    {
      "cell_type": "markdown",
      "metadata": {
        "id": "fo0jcVPtNOgV"
      },
      "source": [
        "Step-I"
      ]
    },
    {
      "cell_type": "code",
      "metadata": {
        "id": "wQfr-biD9iFM"
      },
      "source": [
        "# initialise parameters\n",
        "markov= pd.DataFrame(columns = pascal.columns)\n",
        "uniqCls=list(np.sort(pascal['label'].unique()))\n",
        "classCNT=len(uniqCls)\n",
        "limit=250\n",
        "m=classCNT*limit\n",
        "mcls={i:0 for i in uniqCls}"
      ],
      "execution_count": null,
      "outputs": []
    },
    {
      "cell_type": "code",
      "metadata": {
        "id": "OIMlC-boB3s8"
      },
      "source": [
        "# Chose parameters for markov sampling\n",
        "k=5\n",
        "q=1.2\n",
        "acc=0"
      ],
      "execution_count": null,
      "outputs": []
    },
    {
      "cell_type": "code",
      "metadata": {
        "id": "qn8CYh4HueNL"
      },
      "source": [
        "# Train a linear Model on N[here 2000] size train set\n",
        "X = pascal.drop(\"label\", axis = 1)\n",
        "y = pascal['label']\n",
        "\n",
        "# train test split\n",
        "X_train, X_test, y_train, y_test = train_test_split(X, y, test_size = 0.8, random_state = 101)\n",
        "model_linear = SVC(kernel='linear')\n",
        "model_linear.fit(X_train, y_train)\n",
        "\n",
        "# predict\n",
        "y_pred = model_linear.predict(X_test)"
      ],
      "execution_count": null,
      "outputs": []
    },
    {
      "cell_type": "code",
      "metadata": {
        "colab": {
          "base_uri": "https://localhost:8080/"
        },
        "id": "EIkUgM_7uA3b",
        "outputId": "a00f5005-ee19-4a42-d21d-3b50c18c25a6"
      },
      "source": [
        "y_pred"
      ],
      "execution_count": null,
      "outputs": [
        {
          "output_type": "execute_result",
          "data": {
            "text/plain": [
              "array([4., 4., 0., ..., 6., 2., 1.])"
            ]
          },
          "metadata": {
            "tags": []
          },
          "execution_count": 24
        }
      ]
    },
    {
      "cell_type": "code",
      "metadata": {
        "id": "xLPcDb9Hv6bZ"
      },
      "source": [
        "predProb=[]"
      ],
      "execution_count": null,
      "outputs": []
    },
    {
      "cell_type": "code",
      "metadata": {
        "id": "6XdDB1FsAjEJ"
      },
      "source": [
        "# Utility Function for loop condition\n",
        "def exist(dic,limit):\n",
        "    for i,val in dic.items():\n",
        "        if val<limit:\n",
        "            return True\n",
        "    return False            "
      ],
      "execution_count": null,
      "outputs": []
    },
    {
      "cell_type": "code",
      "metadata": {
        "id": "hdK-VA5jvL40"
      },
      "source": [
        "# Utility loss Function\n",
        "def lossF(actual,pred):\n",
        "    if actual==pred:\n",
        "        return 1.0\n",
        "    return np.exp(-2)"
      ],
      "execution_count": null,
      "outputs": []
    },
    {
      "cell_type": "code",
      "metadata": {
        "id": "wASTb-M0gLys"
      },
      "source": [
        "# Utility function for training subsequent models\n",
        "def train(data):\n",
        "    \n",
        "    X = data.drop(\"label\", axis = 1)\n",
        "    y = data['label']\n",
        "\n",
        "    # train test split\n",
        "    X_train, X_test, y_train, y_test = train_test_split(X, y, test_size = 0.01, random_state = 101)\n",
        "    model_linear = SVC(kernel='linear')\n",
        "    model_linear.fit(X_train, y_train)\n",
        "\n",
        "    return model_linear"
      ],
      "execution_count": null,
      "outputs": []
    },
    {
      "cell_type": "code",
      "metadata": {
        "id": "98rcpAWLFfnM"
      },
      "source": [
        "lst=[]"
      ],
      "execution_count": null,
      "outputs": []
    },
    {
      "cell_type": "markdown",
      "metadata": {
        "id": "0viOM3RNNhyZ"
      },
      "source": [
        "Step-II TO Step-VII"
      ]
    },
    {
      "cell_type": "code",
      "metadata": {
        "id": "QKLkHKVWAAKR"
      },
      "source": [
        "# Loop markov chain generator k times\n",
        "for km in range(2):\n",
        "    # Reset parameters for next markov chain\n",
        "    if km!=0:\n",
        "        predProb=[]\n",
        "        model_linear=train(markov)\n",
        "        markov= pd.DataFrame(columns = pascal.columns)\n",
        "        mcls={i:0 for i in uniqCls}\n",
        "    lst=[]\n",
        "\n",
        "    # Chosing a random sample as first of markov chain\n",
        "    i=np.random.randint(pascal.shape[0])\n",
        "    z0=pascal.iloc[i]\n",
        "    y0=model_linear.predict(np.array([z0.drop('label')]))[0]\n",
        "    if m%classCNT==0:\n",
        "        mcls[z0['label']]+=1\n",
        "    while exist(mcls,limit):\n",
        "        # choosing a random sample\n",
        "        i=np.random.randint(pascal.shape[0])\n",
        "        while i in lst:\n",
        "            i=np.random.randint(pascal.shape[0])\n",
        "        z1=pascal.iloc[i]\n",
        "        y1=model_linear.predict(np.array([z1.drop('label')]))[0]\n",
        "        n=lossF(z1['label'],y1)\n",
        "        d=lossF(z0['label'],y0)\n",
        "        p=n/d\n",
        "\n",
        "        # Deciding of acceptance of chosen sample and its probability in markov chain\n",
        "        if acc==k:\n",
        "            acc=0\n",
        "            p2=q*p\n",
        "            p2=min(p2,1)\n",
        "            predProb.append([z1['label'],y1,p2])\n",
        "            markov=markov.append(z1)\n",
        "            lst.append(i)\n",
        "            z0=z1\n",
        "            mcls[z1['label']]+=1\n",
        "            acc+=1\n",
        "        elif p==1 and z0['label']==z1['label']:\n",
        "            n=np.exp(-y1*z1['label'])\n",
        "            d=np.exp(-y0*z0['label'])\n",
        "\n",
        "            p1=n/d\n",
        "            p1=min(p1,1)\n",
        "            predProb.append([z1['label'],y1,p1])\n",
        "            markov=markov.append(z1)\n",
        "            lst.append(i)\n",
        "            z0=z1\n",
        "            mcls[z1['label']]+=1\n",
        "            acc+=1\n",
        "        elif p<1:\n",
        "            predProb.append([z1['label'],y1,p])\n",
        "            markov=markov.append(z1)\n",
        "            lst.append(i)\n",
        "            z0=z1\n",
        "            mcls[z1['label']]+=1\n",
        "            acc+=1\n",
        "        elif p==1 and z0['label']!=z1['label']:\n",
        "            predProb.append([z1['label'],y1,p])\n",
        "            markov=markov.append(z1)\n",
        "            lst.append(i)\n",
        "            z0=z1\n",
        "            mcls[z1['label']]+=1\n",
        "            acc+=1\n",
        "markov"
      ],
      "execution_count": null,
      "outputs": []
    },
    {
      "cell_type": "code",
      "metadata": {
        "id": "jDG8bXV152jW"
      },
      "source": [
        "markov"
      ],
      "execution_count": null,
      "outputs": []
    },
    {
      "cell_type": "code",
      "metadata": {
        "id": "5QLx4N462r2h"
      },
      "source": [
        "predProb"
      ],
      "execution_count": null,
      "outputs": []
    },
    {
      "cell_type": "markdown",
      "metadata": {
        "id": "eXl6V5cSOBlW"
      },
      "source": [
        "Save data from generated markov chain"
      ]
    },
    {
      "cell_type": "code",
      "metadata": {
        "id": "Pwyxtx7k3pSD"
      },
      "source": [
        "markov.to_csv(\"KmarkovSamplesPascal1.csv\")"
      ],
      "execution_count": null,
      "outputs": []
    },
    {
      "cell_type": "code",
      "metadata": {
        "id": "Wjk8DG-B3_D9"
      },
      "source": [
        "prob=[]\n",
        "for i in predProb:\n",
        "    prob.append(i[2])"
      ],
      "execution_count": null,
      "outputs": []
    },
    {
      "cell_type": "code",
      "metadata": {
        "id": "ixRwsvf834Y7"
      },
      "source": [
        "markov['probability']=prob"
      ],
      "execution_count": null,
      "outputs": []
    },
    {
      "cell_type": "code",
      "metadata": {
        "id": "9n-YOd_U4Hgq"
      },
      "source": [
        "markov.to_csv(\"KmarkovSamplesPascalProbability1.csv\")"
      ],
      "execution_count": null,
      "outputs": []
    },
    {
      "cell_type": "code",
      "metadata": {
        "id": "cfhRBBQ95FU_"
      },
      "source": [
        "for i in lst:\n",
        "    pascal=pascal.drop([i])\n",
        "pascal.to_csv('KremainingPascal1.csv')"
      ],
      "execution_count": null,
      "outputs": []
    },
    {
      "cell_type": "markdown",
      "metadata": {
        "id": "uh-fl8YsWIqm"
      },
      "source": [
        "# SVM"
      ]
    },
    {
      "cell_type": "code",
      "metadata": {
        "id": "VIRJ-WF6FKpO"
      },
      "source": [
        "train = pd.read_csv(\"KmarkovSamplesPascal.csv\")\n",
        "test = pd.read_csv(\"KremainingPascal.csv\")"
      ],
      "execution_count": null,
      "outputs": []
    },
    {
      "cell_type": "code",
      "metadata": {
        "id": "4wEpb17SGzPL"
      },
      "source": [
        "train = train.drop(train.columns[[0]], axis=1)\n",
        "test = test.drop(test.columns[[0]], axis=1)"
      ],
      "execution_count": null,
      "outputs": []
    },
    {
      "cell_type": "code",
      "metadata": {
        "id": "JBgk-_RzGjan"
      },
      "source": [
        "X_train = train.drop(\"label\", axis = 1)\n",
        "y_train = train[\"label\"]\n",
        "\n",
        "X_test = test.drop(\"label\", axis = 1)\n",
        "y_test = test[\"label\"]"
      ],
      "execution_count": null,
      "outputs": []
    },
    {
      "cell_type": "markdown",
      "metadata": {
        "id": "SGnXKzuYeeF5"
      },
      "source": [
        "Linear kernel"
      ]
    },
    {
      "cell_type": "code",
      "metadata": {
        "id": "bitcI1CvHG5T",
        "colab": {
          "base_uri": "https://localhost:8080/"
        },
        "outputId": "b6f3c05a-02ff-4d0d-9c3d-8168b03f71e2"
      },
      "source": [
        "model_linear = SVC(kernel='linear')\n",
        "model_linear.fit(X_train, y_train)\n",
        "\n",
        "# predict\n",
        "y_pred = model_linear.predict(X_test)\n",
        "print(\"accuracy:\", metrics.accuracy_score(y_true=y_test, y_pred=y_pred), \"\\n\")"
      ],
      "execution_count": null,
      "outputs": [
        {
          "output_type": "stream",
          "text": [
            "accuracy: 0.2160723789249601 \n",
            "\n"
          ],
          "name": "stdout"
        }
      ]
    },
    {
      "cell_type": "markdown",
      "metadata": {
        "id": "Fu2A7dqOehsq"
      },
      "source": [
        "RBF kernel"
      ]
    },
    {
      "cell_type": "code",
      "metadata": {
        "id": "GDNgJ7QRev6K",
        "colab": {
          "base_uri": "https://localhost:8080/"
        },
        "outputId": "1add466f-1204-4264-a1c7-066cd2b2c8a9"
      },
      "source": [
        "model_linear = SVC(kernel='rbf')\n",
        "model_linear.fit(X_train, y_train)\n",
        "\n",
        "# predict\n",
        "y_pred = model_linear.predict(X_test)\n",
        "print(\"accuracy:\", metrics.accuracy_score(y_true=y_test, y_pred=y_pred), \"\\n\")"
      ],
      "execution_count": null,
      "outputs": [
        {
          "output_type": "stream",
          "text": [
            "accuracy: 0.30920702501330494 \n",
            "\n"
          ],
          "name": "stdout"
        }
      ]
    },
    {
      "cell_type": "markdown",
      "metadata": {
        "id": "HNO7cftCfCiv"
      },
      "source": [
        "Chi-squared kernel"
      ]
    },
    {
      "cell_type": "code",
      "metadata": {
        "id": "Tr6eto90fGkU",
        "colab": {
          "base_uri": "https://localhost:8080/"
        },
        "outputId": "c08971e6-dbd7-4506-8e9c-e462153848f1"
      },
      "source": [
        "from sklearn.metrics.pairwise import chi2_kernel\n",
        "\n",
        "model_linear = SVC(kernel=chi2_kernel)\n",
        "model_linear.fit(X_train, y_train)\n",
        "\n",
        "y_pred = model_linear.predict(X_test)\n",
        "print(\"accuracy:\", metrics.accuracy_score(y_true=y_test, y_pred=y_pred), \"\\n\")"
      ],
      "execution_count": null,
      "outputs": [
        {
          "output_type": "stream",
          "text": [
            "accuracy: 0.23363491218733368 \n",
            "\n"
          ],
          "name": "stdout"
        }
      ]
    },
    {
      "cell_type": "markdown",
      "metadata": {
        "id": "xaehRg-le8mh"
      },
      "source": [
        "Hellinger kernel"
      ]
    },
    {
      "cell_type": "code",
      "metadata": {
        "colab": {
          "base_uri": "https://localhost:8080/"
        },
        "id": "dmhgPdzGfBrk",
        "outputId": "07440d49-f868-4920-df18-7f5bc58d061f"
      },
      "source": [
        "def hellinger(X1, X2):\n",
        "\n",
        "  return np.sqrt(np.dot(X1,X2.T))\n",
        "   \n",
        "\n",
        "model_linear = SVC(kernel=hellinger)\n",
        "model_linear.fit(X_train, y_train)\n",
        "\n",
        "# predict\n",
        "y_pred = model_linear.predict(X_test)\n",
        "print(\"accuracy:\", metrics.accuracy_score(y_true=y_test, y_pred=y_pred), \"\\n\")"
      ],
      "execution_count": null,
      "outputs": [
        {
          "output_type": "stream",
          "text": [
            "accuracy: 0.18946248004257585 \n",
            "\n"
          ],
          "name": "stdout"
        }
      ]
    },
    {
      "cell_type": "markdown",
      "metadata": {
        "id": "LokLXsh2e4Vz"
      },
      "source": [
        "Intersection kernel"
      ]
    },
    {
      "cell_type": "code",
      "metadata": {
        "id": "YYgchpGTe7bV"
      },
      "source": [
        "from sklearn.metrics.pairwise import euclidean_distances\n",
        "\n",
        "def intersection(X1,X2):\n",
        "\n",
        "  # X1= n1 x m\n",
        "  # X2= n2 x m\n",
        "  # result= n1xn2\n",
        "\n",
        "  result = np.zeros((X1.shape[0],X2.shape[0]))\n",
        "  X2=X2.T\n",
        "\n",
        "  for i in range(len(X1)):\n",
        "    # iterate through columns of Y\n",
        "    for j in range(len(X2[0])):\n",
        "      # iterate through rows of Y\n",
        "      val=float('+inf')\n",
        "      for k in range(len(X2)):\n",
        "        val = min(val,X1[i][k] * X2[k][j])\n",
        "\n",
        "      result[i][j]=val\n",
        "\n",
        "  return result\n",
        " \n",
        "\n",
        "model_linear = SVC(kernel=intersection)\n",
        "model_linear.fit(X_train, y_train)\n",
        "\n",
        "# predict\n",
        "y_pred = model_linear.predict(X_test)\n",
        "print(\"accuracy:\", metrics.accuracy_score(y_true=y_test, y_pred=y_pred), \"\\n\")\n",
        "\n",
        "# Taking too much time."
      ],
      "execution_count": null,
      "outputs": []
    }
  ]
}